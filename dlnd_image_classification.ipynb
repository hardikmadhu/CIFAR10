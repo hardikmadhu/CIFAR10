{
 "cells": [
  {
   "cell_type": "markdown",
   "metadata": {
    "collapsed": true
   },
   "source": [
    "# Image Classification\n",
    "In this project, you'll classify images from the [CIFAR-10 dataset](https://www.cs.toronto.edu/~kriz/cifar.html).  The dataset consists of airplanes, dogs, cats, and other objects. You'll preprocess the images, then train a convolutional neural network on all the samples. The images need to be normalized and the labels need to be one-hot encoded.  You'll get to apply what you learned and build a convolutional, max pooling, dropout, and fully connected layers.  At the end, you'll get to see your neural network's predictions on the sample images.\n",
    "## Get the Data\n",
    "Run the following cell to download the [CIFAR-10 dataset for python](https://www.cs.toronto.edu/~kriz/cifar-10-python.tar.gz)."
   ]
  },
  {
   "cell_type": "code",
   "execution_count": 122,
   "metadata": {},
   "outputs": [
    {
     "name": "stdout",
     "output_type": "stream",
     "text": [
      "All files found!\n"
     ]
    }
   ],
   "source": [
    "\"\"\"\n",
    "DON'T MODIFY ANYTHING IN THIS CELL THAT IS BELOW THIS LINE\n",
    "\"\"\"\n",
    "from urllib.request import urlretrieve\n",
    "from os.path import isfile, isdir\n",
    "from tqdm import tqdm\n",
    "import problem_unittests as tests\n",
    "import tarfile\n",
    "\n",
    "cifar10_dataset_folder_path = 'cifar-10-batches-py'\n",
    "\n",
    "class DLProgress(tqdm):\n",
    "    last_block = 0\n",
    "\n",
    "    def hook(self, block_num=1, block_size=1, total_size=None):\n",
    "        self.total = total_size\n",
    "        self.update((block_num - self.last_block) * block_size)\n",
    "        self.last_block = block_num\n",
    "\n",
    "if not isfile('cifar-10-python.tar.gz'):\n",
    "    with DLProgress(unit='B', unit_scale=True, miniters=1, desc='CIFAR-10 Dataset') as pbar:\n",
    "        urlretrieve(\n",
    "            'https://www.cs.toronto.edu/~kriz/cifar-10-python.tar.gz',\n",
    "            'cifar-10-python.tar.gz',\n",
    "            pbar.hook)\n",
    "\n",
    "if not isdir(cifar10_dataset_folder_path):\n",
    "    with tarfile.open('cifar-10-python.tar.gz') as tar:\n",
    "        tar.extractall()\n",
    "        tar.close()\n",
    "\n",
    "\n",
    "tests.test_folder_path(cifar10_dataset_folder_path)"
   ]
  },
  {
   "cell_type": "markdown",
   "metadata": {},
   "source": [
    "## Explore the Data\n",
    "The dataset is broken into batches to prevent your machine from running out of memory.  The CIFAR-10 dataset consists of 5 batches, named `data_batch_1`, `data_batch_2`, etc.. Each batch contains the labels and images that are one of the following:\n",
    "* airplane\n",
    "* automobile\n",
    "* bird\n",
    "* cat\n",
    "* deer\n",
    "* dog\n",
    "* frog\n",
    "* horse\n",
    "* ship\n",
    "* truck\n",
    "\n",
    "Understanding a dataset is part of making predictions on the data.  Play around with the code cell below by changing the `batch_id` and `sample_id`. The `batch_id` is the id for a batch (1-5). The `sample_id` is the id for a image and label pair in the batch.\n",
    "\n",
    "Ask yourself \"What are all possible labels?\", \"What is the range of values for the image data?\", \"Are the labels in order or random?\".  Answers to questions like these will help you preprocess the data and end up with better predictions."
   ]
  },
  {
   "cell_type": "code",
   "execution_count": 123,
   "metadata": {},
   "outputs": [
    {
     "name": "stdout",
     "output_type": "stream",
     "text": [
      "\n",
      "Stats of batch 1:\n",
      "Samples: 10000\n",
      "Label Counts: {0: 1005, 1: 974, 2: 1032, 3: 1016, 4: 999, 5: 937, 6: 1030, 7: 1001, 8: 1025, 9: 981}\n",
      "First 20 Labels: [6, 9, 9, 4, 1, 1, 2, 7, 8, 3, 4, 7, 7, 2, 9, 9, 9, 3, 2, 6]\n",
      "\n",
      "Example of Image 6:\n",
      "Image - Min Value: 7 Max Value: 249\n",
      "Image - Shape: (32, 32, 3)\n",
      "Label - Label Id: 2 Name: bird\n"
     ]
    },
    {
     "data": {
      "image/png": "[encoded data removed]",
      "text/plain": [
       "<matplotlib.figure.Figure at 0x1a104bfc50>"
      ]
     },
     "metadata": {
      "image/png": {
       "height": 250,
       "width": 253
      }
     },
     "output_type": "display_data"
    }
   ],
   "source": [
    "%matplotlib inline\n",
    "%config InlineBackend.figure_format = 'retina'\n",
    "\n",
    "import helper\n",
    "import numpy as np\n",
    "\n",
    "# Explore the dataset\n",
    "batch_id = 1\n",
    "sample_id = 6\n",
    "helper.display_stats(cifar10_dataset_folder_path, batch_id, sample_id)"
   ]
  },
  {
   "cell_type": "markdown",
   "metadata": {},
   "source": [
    "## Implement Preprocess Functions\n",
    "### Normalize\n",
    "In the cell below, implement the `normalize` function to take in image data, `x`, and return it as a normalized Numpy array. The values should be in the range of 0 to 1, inclusive.  The return object should be the same shape as `x`."
   ]
  },
  {
   "cell_type": "code",
   "execution_count": 124,
   "metadata": {},
   "outputs": [
    {
     "name": "stdout",
     "output_type": "stream",
     "text": [
      "Tests Passed\n"
     ]
    }
   ],
   "source": [
    "def normalize(x):\n",
    "    \"\"\"\n",
    "    Normalize a list of sample image data in the range of 0 to 1\n",
    "    : x: List of image data.  The image shape is (32, 32, 3)\n",
    "    : return: Numpy array of normalize data\n",
    "    \"\"\"\n",
    "    # TODO: Implement Function\n",
    "    \n",
    "    return x / 255.0\n",
    "\n",
    "\n",
    "\"\"\"\n",
    "DON'T MODIFY ANYTHING IN THIS CELL THAT IS BELOW THIS LINE\n",
    "\"\"\"\n",
    "tests.test_normalize(normalize)"
   ]
  },
  {
   "cell_type": "markdown",
   "metadata": {},
   "source": [
    "### One-hot encode\n",
    "Just like the previous code cell, you'll be implementing a function for preprocessing.  This time, you'll implement the `one_hot_encode` function. The input, `x`, are a list of labels.  Implement the function to return the list of labels as One-Hot encoded Numpy array.  The possible values for labels are 0 to 9. The one-hot encoding function should return the same encoding for each value between each call to `one_hot_encode`.  Make sure to save the map of encodings outside the function.\n",
    "\n",
    "**Hint:**\n",
    "\n",
    "Look into LabelBinarizer in the preprocessing module of sklearn."
   ]
  },
  {
   "cell_type": "code",
   "execution_count": 125,
   "metadata": {},
   "outputs": [
    {
     "name": "stdout",
     "output_type": "stream",
     "text": [
      "Tests Passed\n"
     ]
    }
   ],
   "source": [
    "def one_hot_encode(x):\n",
    "    \"\"\"\n",
    "    One hot encode a list of sample labels. Return a one-hot encoded vector for each label.\n",
    "    : x: List of sample Labels\n",
    "    : return: Numpy array of one-hot encoded labels\n",
    "    \"\"\"\n",
    "    # TODO: Implement Function\n",
    "    from sklearn.preprocessing import OneHotEncoder\n",
    "    import numpy as np\n",
    "    enc = OneHotEncoder(n_values = 10, categorical_features='all')\n",
    "    enc.fit(np.array(range(0,10)).reshape(-1, 1))\n",
    "    x = enc.transform(np.array(x).reshape(-1, 1)).toarray()\n",
    "    return x\n",
    "\n",
    "\n",
    "\"\"\"\n",
    "DON'T MODIFY ANYTHING IN THIS CELL THAT IS BELOW THIS LINE\n",
    "\"\"\"\n",
    "tests.test_one_hot_encode(one_hot_encode)"
   ]
  },
  {
   "cell_type": "markdown",
   "metadata": {},
   "source": [
    "### Randomize Data\n",
    "As you saw from exploring the data above, the order of the samples are randomized.  It doesn't hurt to randomize it again, but you don't need to for this dataset."
   ]
  },
  {
   "cell_type": "markdown",
   "metadata": {},
   "source": [
    "## Preprocess all the data and save it\n",
    "Running the code cell below will preprocess all the CIFAR-10 data and save it to file. The code below also uses 10% of the training data for validation."
   ]
  },
  {
   "cell_type": "code",
   "execution_count": 126,
   "metadata": {},
   "outputs": [],
   "source": [
    "\"\"\"\n",
    "DON'T MODIFY ANYTHING IN THIS CELL\n",
    "\"\"\"\n",
    "# Preprocess Training, Validation, and Testing Data\n",
    "helper.preprocess_and_save_data(cifar10_dataset_folder_path, normalize, one_hot_encode)"
   ]
  },
  {
   "cell_type": "markdown",
   "metadata": {},
   "source": [
    "# Check Point\n",
    "This is your first checkpoint.  If you ever decide to come back to this notebook or have to restart the notebook, you can start from here.  The preprocessed data has been saved to disk."
   ]
  },
  {
   "cell_type": "code",
   "execution_count": 127,
   "metadata": {},
   "outputs": [],
   "source": [
    "\"\"\"\n",
    "DON'T MODIFY ANYTHING IN THIS CELL\n",
    "\"\"\"\n",
    "import pickle\n",
    "import problem_unittests as tests\n",
    "import helper\n",
    "\n",
    "# Load the Preprocessed Validation data\n",
    "valid_features, valid_labels = pickle.load(open('preprocess_validation.p', mode='rb'))"
   ]
  },
  {
   "cell_type": "markdown",
   "metadata": {},
   "source": [
    "## Build the network\n",
    "For the neural network, you'll build each layer into a function.  Most of the code you've seen has been outside of functions. To test your code more thoroughly, we require that you put each layer in a function.  This allows us to give you better feedback and test for simple mistakes using our unittests before you submit your project.\n",
    "\n",
    ">**Note:** If you're finding it hard to dedicate enough time for this course each week, we've provided a small shortcut to this part of the project. In the next couple of problems, you'll have the option to use classes from the [TensorFlow Layers](https://www.tensorflow.org/api_docs/python/tf/layers) or [TensorFlow Layers (contrib)](https://www.tensorflow.org/api_guides/python/contrib.layers) packages to build each layer, except the layers you build in the \"Convolutional and Max Pooling Layer\" section.  TF Layers is similar to Keras's and TFLearn's abstraction to layers, so it's easy to pickup.\n",
    "\n",
    ">However, if you would like to get the most out of this course, try to solve all the problems _without_ using anything from the TF Layers packages. You **can** still use classes from other packages that happen to have the same name as ones you find in TF Layers! For example, instead of using the TF Layers version of the `conv2d` class, [tf.layers.conv2d](https://www.tensorflow.org/api_docs/python/tf/layers/conv2d), you would want to use the TF Neural Network version of `conv2d`, [tf.nn.conv2d](https://www.tensorflow.org/api_docs/python/tf/nn/conv2d). \n",
    "\n",
    "Let's begin!\n",
    "\n",
    "### Input\n",
    "The neural network needs to read the image data, one-hot encoded labels, and dropout keep probability. Implement the following functions\n",
    "* Implement `neural_net_image_input`\n",
    " * Return a [TF Placeholder](https://www.tensorflow.org/api_docs/python/tf/placeholder)\n",
    " * Set the shape using `image_shape` with batch size set to `None`.\n",
    " * Name the TensorFlow placeholder \"x\" using the TensorFlow `name` parameter in the [TF Placeholder](https://www.tensorflow.org/api_docs/python/tf/placeholder).\n",
    "* Implement `neural_net_label_input`\n",
    " * Return a [TF Placeholder](https://www.tensorflow.org/api_docs/python/tf/placeholder)\n",
    " * Set the shape using `n_classes` with batch size set to `None`.\n",
    " * Name the TensorFlow placeholder \"y\" using the TensorFlow `name` parameter in the [TF Placeholder](https://www.tensorflow.org/api_docs/python/tf/placeholder).\n",
    "* Implement `neural_net_keep_prob_input`\n",
    " * Return a [TF Placeholder](https://www.tensorflow.org/api_docs/python/tf/placeholder) for dropout keep probability.\n",
    " * Name the TensorFlow placeholder \"keep_prob\" using the TensorFlow `name` parameter in the [TF Placeholder](https://www.tensorflow.org/api_docs/python/tf/placeholder).\n",
    "\n",
    "These names will be used at the end of the project to load your saved model.\n",
    "\n",
    "Note: `None` for shapes in TensorFlow allow for a dynamic size."
   ]
  },
  {
   "cell_type": "code",
   "execution_count": 128,
   "metadata": {},
   "outputs": [
    {
     "name": "stdout",
     "output_type": "stream",
     "text": [
      "Image Input Tests Passed.\n",
      "Label Input Tests Passed.\n",
      "Keep Prob Tests Passed.\n"
     ]
    }
   ],
   "source": [
    "import tensorflow as tf\n",
    "\n",
    "def neural_net_image_input(image_shape):\n",
    "    \"\"\"\n",
    "    Return a Tensor for a batch of image input\n",
    "    : image_shape: Shape of the images\n",
    "    : return: Tensor for image input.\n",
    "    \"\"\"\n",
    "    # TODO: Implement Function\n",
    "    image_input = tf.placeholder(tf.float32, [None, image_shape[0], image_shape[1], image_shape[2]], name = \"x\")\n",
    "    return image_input\n",
    "\n",
    "\n",
    "def neural_net_label_input(n_classes):\n",
    "    \"\"\"\n",
    "    Return a Tensor for a batch of label input\n",
    "    : n_classes: Number of classes\n",
    "    : return: Tensor for label input.\n",
    "    \"\"\"\n",
    "    # TODO: Implement Function\n",
    "    label_input = tf.placeholder(tf.float32, [None, n_classes], name = \"y\")\n",
    "    return label_input\n",
    "\n",
    "\n",
    "def neural_net_keep_prob_input():\n",
    "    \"\"\"\n",
    "    Return a Tensor for keep probability\n",
    "    : return: Tensor for keep probability.\n",
    "    \"\"\"\n",
    "    # TODO: Implement Function\n",
    "    keep_prob = tf.placeholder(tf.float32, name = \"keep_prob\")\n",
    "    return keep_prob\n",
    "\n",
    "\n",
    "\"\"\"\n",
    "DON'T MODIFY ANYTHING IN THIS CELL THAT IS BELOW THIS LINE\n",
    "\"\"\"\n",
    "tf.reset_default_graph()\n",
    "tests.test_nn_image_inputs(neural_net_image_input)\n",
    "tests.test_nn_label_inputs(neural_net_label_input)\n",
    "tests.test_nn_keep_prob_inputs(neural_net_keep_prob_input)"
   ]
  },
  {
   "cell_type": "markdown",
   "metadata": {},
   "source": [
    "### Convolution and Max Pooling Layer\n",
    "Convolution layers have a lot of success with images. For this code cell, you should implement the function `conv2d_maxpool` to apply convolution then max pooling:\n",
    "* Create the weight and bias using `conv_ksize`, `conv_num_outputs` and the shape of `x_tensor`.\n",
    "* Apply a convolution to `x_tensor` using weight and `conv_strides`.\n",
    " * We recommend you use same padding, but you're welcome to use any padding.\n",
    "* Add bias\n",
    "* Add a nonlinear activation to the convolution.\n",
    "* Apply Max Pooling using `pool_ksize` and `pool_strides`.\n",
    " * We recommend you use same padding, but you're welcome to use any padding.\n",
    "\n",
    "**Note:** You **can't** use [TensorFlow Layers](https://www.tensorflow.org/api_docs/python/tf/layers) or [TensorFlow Layers (contrib)](https://www.tensorflow.org/api_guides/python/contrib.layers) for **this** layer, but you can still use TensorFlow's [Neural Network](https://www.tensorflow.org/api_docs/python/tf/nn) package. You may still use the shortcut option for all the **other** layers.\n",
    "\n",
    "** Hint: **\n",
    "\n",
    "When unpacking values as an argument in Python, look into the [unpacking](https://docs.python.org/3/tutorial/controlflow.html#unpacking-argument-lists) operator. "
   ]
  },
  {
   "cell_type": "code",
   "execution_count": 129,
   "metadata": {},
   "outputs": [
    {
     "name": "stdout",
     "output_type": "stream",
     "text": [
      "Tests Passed\n"
     ]
    }
   ],
   "source": [
    "def conv2d_maxpool(x_tensor, conv_num_outputs, conv_ksize, conv_strides, pool_ksize, pool_strides):\n",
    "    \"\"\"\n",
    "    Apply convolution then max pooling to x_tensor\n",
    "    :param x_tensor: TensorFlow Tensor\n",
    "    :param conv_num_outputs: Number of outputs for the convolutional layer\n",
    "    :param conv_ksize: kernal size 2-D Tuple for the convolutional layer\n",
    "    :param conv_strides: Stride 2-D Tuple for convolution\n",
    "    :param pool_ksize: kernal size 2-D Tuple for pool\n",
    "    :param pool_strides: Stride 2-D Tuple for pool\n",
    "    : return: A tensor that represents convolution and max pooling of x_tensor\n",
    "    \"\"\"\n",
    "    # TODO: Implement Function\n",
    "    s = x_tensor.get_shape().as_list()\n",
    "    \n",
    "    filter_weights = tf.Variable(tf.truncated_normal((conv_ksize[0], conv_ksize[1], s[-1], conv_num_outputs),stddev=0.1)) # (height, width, input_depth, output_depth)\n",
    "    filter_bias = tf.Variable(tf.zeros(conv_num_outputs))\n",
    "    strides = [1, conv_strides[0], conv_strides[1], 1] # (batch, height, width, depth)\n",
    "    padding = 'SAME'\n",
    "    \n",
    "    conv = tf.nn.conv2d(x_tensor, filter_weights, strides, padding)\n",
    "    conv = tf.nn.bias_add(conv, filter_bias)\n",
    "    conv = tf.nn.relu(conv)\n",
    "    \n",
    "    pooled = tf.nn.max_pool(conv, ksize=[1, pool_ksize[0], pool_ksize[1], 1],\n",
    "                            strides=[1, pool_strides[0], pool_strides[1], 1], padding='SAME')\n",
    "   \n",
    "    return pooled \n",
    "    \n",
    "\n",
    "\"\"\"\n",
    "DON'T MODIFY ANYTHING IN THIS CELL THAT IS BELOW THIS LINE\n",
    "\"\"\"\n",
    "tests.test_con_pool(conv2d_maxpool)"
   ]
  },
  {
   "cell_type": "markdown",
   "metadata": {},
   "source": [
    "### Flatten Layer\n",
    "Implement the `flatten` function to change the dimension of `x_tensor` from a 4-D tensor to a 2-D tensor.  The output should be the shape (*Batch Size*, *Flattened Image Size*). Shortcut option: you can use classes from the [TensorFlow Layers](https://www.tensorflow.org/api_docs/python/tf/layers) or [TensorFlow Layers (contrib)](https://www.tensorflow.org/api_guides/python/contrib.layers) packages for this layer. For more of a challenge, only use other TensorFlow packages."
   ]
  },
  {
   "cell_type": "code",
   "execution_count": 130,
   "metadata": {},
   "outputs": [
    {
     "name": "stdout",
     "output_type": "stream",
     "text": [
      "Tests Passed\n"
     ]
    }
   ],
   "source": [
    "def flatten(x_tensor):\n",
    "    \"\"\"\n",
    "    Flatten x_tensor to (Batch Size, Flattened Image Size)\n",
    "    : x_tensor: A tensor of size (Batch Size, ...), where ... are the image dimensions.\n",
    "    : return: A tensor of size (Batch Size, Flattened Image Size).\n",
    "    \"\"\"\n",
    "    # TODO: Implement Function\n",
    "    shape = x_tensor.get_shape().as_list()\n",
    "    dim = np.prod(shape[1:])\n",
    "    x_flatten = tf.reshape(x_tensor, [tf.shape(x_tensor)[0], dim])\n",
    "    return x_flatten\n",
    "\n",
    "\n",
    "\"\"\"\n",
    "DON'T MODIFY ANYTHING IN THIS CELL THAT IS BELOW THIS LINE\n",
    "\"\"\"\n",
    "tests.test_flatten(flatten)"
   ]
  },
  {
   "cell_type": "markdown",
   "metadata": {},
   "source": [
    "### Fully-Connected Layer\n",
    "Implement the `fully_conn` function to apply a fully connected layer to `x_tensor` with the shape (*Batch Size*, *num_outputs*). Shortcut option: you can use classes from the [TensorFlow Layers](https://www.tensorflow.org/api_docs/python/tf/layers) or [TensorFlow Layers (contrib)](https://www.tensorflow.org/api_guides/python/contrib.layers) packages for this layer. For more of a challenge, only use other TensorFlow packages."
   ]
  },
  {
   "cell_type": "code",
   "execution_count": 131,
   "metadata": {},
   "outputs": [
    {
     "name": "stdout",
     "output_type": "stream",
     "text": [
      "Tests Passed\n"
     ]
    }
   ],
   "source": [
    "def fully_conn(x_tensor, num_outputs):\n",
    "    \"\"\"\n",
    "    Apply a fully connected layer to x_tensor using weight and bias\n",
    "    : x_tensor: A 2-D tensor where the first dimension is batch size.\n",
    "    : num_outputs: The number of output that the new tensor should be.\n",
    "    : return: A 2-D tensor where the second dimension is num_outputs.\n",
    "    \"\"\"\n",
    "    # TODO: Implement Function\n",
    "    shape = x_tensor.get_shape().as_list()\n",
    "    weights = tf.Variable(tf.random_normal([shape[1], num_outputs],stddev=0.1))\n",
    "    biases = tf.Variable(tf.zeros([num_outputs]))\n",
    "    \n",
    "    fc = tf.add(tf.matmul(x_tensor, weights), biases)\n",
    "    fc = tf.nn.relu(fc)\n",
    "\n",
    "    return fc\n",
    "\n",
    "\n",
    "\"\"\"\n",
    "DON'T MODIFY ANYTHING IN THIS CELL THAT IS BELOW THIS LINE\n",
    "\"\"\"\n",
    "tests.test_fully_conn(fully_conn)"
   ]
  },
  {
   "cell_type": "markdown",
   "metadata": {},
   "source": [
    "### Output Layer\n",
    "Implement the `output` function to apply a fully connected layer to `x_tensor` with the shape (*Batch Size*, *num_outputs*). Shortcut option: you can use classes from the [TensorFlow Layers](https://www.tensorflow.org/api_docs/python/tf/layers) or [TensorFlow Layers (contrib)](https://www.tensorflow.org/api_guides/python/contrib.layers) packages for this layer. For more of a challenge, only use other TensorFlow packages.\n",
    "\n",
    "**Note:** Activation, softmax, or cross entropy should **not** be applied to this."
   ]
  },
  {
   "cell_type": "code",
   "execution_count": 132,
   "metadata": {},
   "outputs": [
    {
     "name": "stdout",
     "output_type": "stream",
     "text": [
      "Tests Passed\n"
     ]
    }
   ],
   "source": [
    "def output(x_tensor, num_outputs):\n",
    "    \"\"\"\n",
    "    Apply a output layer to x_tensor using weight and bias\n",
    "    : x_tensor: A 2-D tensor where the first dimension is batch size.\n",
    "    : num_outputs: The number of output that the new tensor should be.\n",
    "    : return: A 2-D tensor where the second dimension is num_outputs.\n",
    "    \"\"\"\n",
    "    # TODO: Implement Function\n",
    "    shape = x_tensor.get_shape().as_list()\n",
    "    weights = tf.Variable(tf.random_normal([shape[1], num_outputs],stddev=0.1))\n",
    "    biases = tf.Variable(tf.zeros([num_outputs]))\n",
    "\n",
    "    out = tf.add(tf.matmul(x_tensor, weights), biases)\n",
    "\n",
    "    return out\n",
    "\n",
    "\n",
    "\"\"\"\n",
    "DON'T MODIFY ANYTHING IN THIS CELL THAT IS BELOW THIS LINE\n",
    "\"\"\"\n",
    "tests.test_output(output)"
   ]
  },
  {
   "cell_type": "markdown",
   "metadata": {},
   "source": [
    "### Create Convolutional Model\n",
    "Implement the function `conv_net` to create a convolutional neural network model. The function takes in a batch of images, `x`, and outputs logits.  Use the layers you created above to create this model:\n",
    "\n",
    "* Apply 1, 2, or 3 Convolution and Max Pool layers\n",
    "* Apply a Flatten Layer\n",
    "* Apply 1, 2, or 3 Fully Connected Layers\n",
    "* Apply an Output Layer\n",
    "* Return the output\n",
    "* Apply [TensorFlow's Dropout](https://www.tensorflow.org/api_docs/python/tf/nn/dropout) to one or more layers in the model using `keep_prob`. "
   ]
  },
  {
   "cell_type": "code",
   "execution_count": 151,
   "metadata": {},
   "outputs": [
    {
     "name": "stdout",
     "output_type": "stream",
     "text": [
      "Neural Network Built!\n"
     ]
    }
   ],
   "source": [
    "def conv_net(x, keep_prob):\n",
    "    \"\"\"\n",
    "    Create a convolutional neural network model\n",
    "    : x: Placeholder tensor that holds image data.\n",
    "    : keep_prob: Placeholder tensor that hold dropout keep probability.\n",
    "    : return: Tensor that represents logits\n",
    "    \"\"\"\n",
    "    # TODO: Apply 1, 2, or 3 Convolution and Max Pool layers\n",
    "    #    Play around with different number of outputs, kernel size and stride\n",
    "    # Function Definition from Above:\n",
    "    conv_num_outputs = 32\n",
    "    conv_ksize = (4, 4)\n",
    "    conv_strides = (1, 1)\n",
    "    pool_ksize = (2, 2)\n",
    "    pool_strides = (2, 2)\n",
    "    x_tensor = conv2d_maxpool(x, conv_num_outputs, conv_ksize, conv_strides, pool_ksize, pool_strides)\n",
    "    x_tensor = tf.nn.dropout(x_tensor, keep_prob)\n",
    "\n",
    "    conv_num_outputs = 64\n",
    "    x_tensor = conv2d_maxpool(x_tensor, conv_num_outputs, conv_ksize, conv_strides, pool_ksize, pool_strides)\n",
    "    x_tensor = tf.nn.dropout(x_tensor, keep_prob)\n",
    "\n",
    "#    conv_num_outputs = 32\n",
    "#    x_tensor = conv2d_maxpool(x_tensor, conv_num_outputs, conv_ksize, conv_strides, pool_ksize, pool_strides)\n",
    "#    x_tensor = tf.nn.dropout(x_tensor, keep_prob)\n",
    "\n",
    "    # TODO: Apply a Flatten Layer\n",
    "    # Function Definition from Above:\n",
    "    x_tensor = flatten(x_tensor)\n",
    "    \n",
    "\n",
    "    # TODO: Apply 1, 2, or 3 Fully Connected Layers\n",
    "    #    Play around with different number of outputs\n",
    "    # Function Definition from Above:\n",
    "    num_outputs = 256\n",
    "    x_tensor = fully_conn(x_tensor, num_outputs)\n",
    "    x_tensor = tf.nn.dropout(x_tensor, keep_prob)\n",
    "        \n",
    "    num_outputs = 512\n",
    "    x_tensor = fully_conn(x_tensor, num_outputs)\n",
    "    x_tensor = tf.nn.dropout(x_tensor, keep_prob)\n",
    "\n",
    "\n",
    "    \n",
    "    # TODO: Apply an Output Layer\n",
    "    #    Set this to the number of classes\n",
    "    # Function Definition from Above:\n",
    "    num_outputs = 10\n",
    "    out = output(x_tensor, num_outputs)\n",
    "    #out = tf.nn.relu(out)\n",
    "    \n",
    "    # TODO: return output\n",
    "    return out\n",
    "\n",
    "\n",
    "\"\"\"\n",
    "DON'T MODIFY ANYTHING IN THIS CELL THAT IS BELOW THIS LINE\n",
    "\"\"\"\n",
    "\n",
    "##############################\n",
    "## Build the Neural Network ##\n",
    "##############################\n",
    "\n",
    "# Remove previous weights, bias, inputs, etc..\n",
    "tf.reset_default_graph()\n",
    "\n",
    "# Inputs\n",
    "x = neural_net_image_input((32, 32, 3))\n",
    "y = neural_net_label_input(10)\n",
    "keep_prob = neural_net_keep_prob_input()\n",
    "\n",
    "# Model\n",
    "logits = conv_net(x, keep_prob)\n",
    "\n",
    "# Name logits Tensor, so that is can be loaded from disk after training\n",
    "logits = tf.identity(logits, name='logits')\n",
    "\n",
    "# Loss and Optimizer\n",
    "cost = tf.reduce_mean(tf.nn.softmax_cross_entropy_with_logits(logits=logits, labels=y))\n",
    "optimizer = tf.train.AdamOptimizer().minimize(cost)\n",
    "\n",
    "# Accuracy\n",
    "correct_pred = tf.equal(tf.argmax(logits, 1), tf.argmax(y, 1))\n",
    "accuracy = tf.reduce_mean(tf.cast(correct_pred, tf.float32), name='accuracy')\n",
    "\n",
    "tests.test_conv_net(conv_net)"
   ]
  },
  {
   "cell_type": "markdown",
   "metadata": {},
   "source": [
    "## Train the Neural Network\n",
    "### Single Optimization\n",
    "Implement the function `train_neural_network` to do a single optimization.  The optimization should use `optimizer` to optimize in `session` with a `feed_dict` of the following:\n",
    "* `x` for image input\n",
    "* `y` for labels\n",
    "* `keep_prob` for keep probability for dropout\n",
    "\n",
    "This function will be called for each batch, so `tf.global_variables_initializer()` has already been called.\n",
    "\n",
    "Note: Nothing needs to be returned. This function is only optimizing the neural network."
   ]
  },
  {
   "cell_type": "code",
   "execution_count": 145,
   "metadata": {},
   "outputs": [
    {
     "name": "stdout",
     "output_type": "stream",
     "text": [
      "Tests Passed\n"
     ]
    }
   ],
   "source": [
    "def train_neural_network(session, optimizer, keep_probability, feature_batch, label_batch):\n",
    "    \"\"\"\n",
    "    Optimize the session on a batch of images and labels\n",
    "    : session: Current TensorFlow session\n",
    "    : optimizer: TensorFlow optimizer function\n",
    "    : keep_probability: keep probability\n",
    "    : feature_batch: Batch of Numpy image data\n",
    "    : label_batch: Batch of Numpy label data\n",
    "    \"\"\"\n",
    "    # TODO: Implement Function\n",
    "    session.run(optimizer, feed_dict={x:feature_batch, y:label_batch, keep_prob: keep_probability})\n",
    "    pass\n",
    "\n",
    "\n",
    "\"\"\"\n",
    "DON'T MODIFY ANYTHING IN THIS CELL THAT IS BELOW THIS LINE\n",
    "\"\"\"\n",
    "tests.test_train_nn(train_neural_network)"
   ]
  },
  {
   "cell_type": "markdown",
   "metadata": {},
   "source": [
    "### Show Stats\n",
    "Implement the function `print_stats` to print loss and validation accuracy.  Use the global variables `valid_features` and `valid_labels` to calculate validation accuracy.  Use a keep probability of `1.0` to calculate the loss and validation accuracy."
   ]
  },
  {
   "cell_type": "code",
   "execution_count": 146,
   "metadata": {},
   "outputs": [],
   "source": [
    "def print_stats(session, feature_batch, label_batch, cost, accuracy):\n",
    "    \"\"\"\n",
    "    Print information about loss and validation accuracy\n",
    "    : session: Current TensorFlow session\n",
    "    : feature_batch: Batch of Numpy image data\n",
    "    : label_batch: Batch of Numpy label data\n",
    "    : cost: TensorFlow cost function\n",
    "    : accuracy: TensorFlow accuracy function\n",
    "    \"\"\"\n",
    "    # TODO: Implement Function\n",
    "    loss = session.run(cost, feed_dict = {x: feature_batch, y: label_batch, keep_prob: 1.0})\n",
    "    validation_accuracy = session.run(accuracy, feed_dict = {x: valid_features, y: valid_labels, keep_prob: 1.0})\n",
    "    print(\"Loss\", loss, \"Validation Accuracy\", validation_accuracy)"
   ]
  },
  {
   "cell_type": "markdown",
   "metadata": {},
   "source": [
    "### Hyperparameters\n",
    "Tune the following parameters:\n",
    "* Set `epochs` to the number of iterations until the network stops learning or start overfitting\n",
    "* Set `batch_size` to the highest number that your machine has memory for.  Most people set them to common sizes of memory:\n",
    " * 64\n",
    " * 128\n",
    " * 256\n",
    " * ...\n",
    "* Set `keep_probability` to the probability of keeping a node using dropout"
   ]
  },
  {
   "cell_type": "code",
   "execution_count": 152,
   "metadata": {},
   "outputs": [],
   "source": [
    "# TODO: Tune Parameters\n",
    "epochs = 40\n",
    "batch_size = 256\n",
    "keep_probability = 0.75"
   ]
  },
  {
   "cell_type": "markdown",
   "metadata": {},
   "source": [
    "### Train on a Single CIFAR-10 Batch\n",
    "Instead of training the neural network on all the CIFAR-10 batches of data, let's use a single batch. This should save time while you iterate on the model to get a better accuracy.  Once the final validation accuracy is 50% or greater, run the model on all the data in the next section."
   ]
  },
  {
   "cell_type": "code",
   "execution_count": 153,
   "metadata": {},
   "outputs": [
    {
     "name": "stdout",
     "output_type": "stream",
     "text": [
      "Checking the Training on a Single Batch...\n",
      "Epoch  1, CIFAR-10 Batch 1:  Loss 2.29469 Validation Accuracy 0.1906\n",
      "Epoch  2, CIFAR-10 Batch 1:  Loss 2.1184 Validation Accuracy 0.2922\n",
      "Epoch  3, CIFAR-10 Batch 1:  Loss 1.90462 Validation Accuracy 0.3478\n",
      "Epoch  4, CIFAR-10 Batch 1:  Loss 1.73277 Validation Accuracy 0.3966\n",
      "Epoch  5, CIFAR-10 Batch 1:  Loss 1.59334 Validation Accuracy 0.4368\n",
      "Epoch  6, CIFAR-10 Batch 1:  Loss 1.47726 Validation Accuracy 0.4474\n",
      "Epoch  7, CIFAR-10 Batch 1:  Loss 1.3118 Validation Accuracy 0.4848\n",
      "Epoch  8, CIFAR-10 Batch 1:  Loss 1.18332 Validation Accuracy 0.4812\n",
      "Epoch  9, CIFAR-10 Batch 1:  Loss 1.06778 Validation Accuracy 0.5052\n",
      "Epoch 10, CIFAR-10 Batch 1:  Loss 0.913778 Validation Accuracy 0.5078\n",
      "Epoch 11, CIFAR-10 Batch 1:  Loss 0.908067 Validation Accuracy 0.5086\n",
      "Epoch 12, CIFAR-10 Batch 1:  Loss 0.777084 Validation Accuracy 0.5332\n",
      "Epoch 13, CIFAR-10 Batch 1:  Loss 0.71948 Validation Accuracy 0.5332\n",
      "Epoch 14, CIFAR-10 Batch 1:  Loss 0.675669 Validation Accuracy 0.54\n",
      "Epoch 15, CIFAR-10 Batch 1:  Loss 0.609901 Validation Accuracy 0.536\n",
      "Epoch 16, CIFAR-10 Batch 1:  Loss 0.580541 Validation Accuracy 0.5582\n",
      "Epoch 17, CIFAR-10 Batch 1:  Loss 0.477315 Validation Accuracy 0.5694\n",
      "Epoch 18, CIFAR-10 Batch 1:  Loss 0.431579 Validation Accuracy 0.5702\n",
      "Epoch 19, CIFAR-10 Batch 1:  Loss 0.396136 Validation Accuracy 0.5648\n",
      "Epoch 20, CIFAR-10 Batch 1:  Loss 0.359911 Validation Accuracy 0.58\n",
      "Epoch 21, CIFAR-10 Batch 1:  Loss 0.342598 Validation Accuracy 0.569\n",
      "Epoch 22, CIFAR-10 Batch 1:  Loss 0.293898 Validation Accuracy 0.5636\n",
      "Epoch 23, CIFAR-10 Batch 1:  Loss 0.268775 Validation Accuracy 0.563\n",
      "Epoch 24, CIFAR-10 Batch 1:  Loss 0.210367 Validation Accuracy 0.5852\n",
      "Epoch 25, CIFAR-10 Batch 1:  Loss 0.196125 Validation Accuracy 0.5896\n",
      "Epoch 26, CIFAR-10 Batch 1:  Loss 0.162964 Validation Accuracy 0.5906\n",
      "Epoch 27, CIFAR-10 Batch 1:  Loss 0.132807 Validation Accuracy 0.587\n",
      "Epoch 28, CIFAR-10 Batch 1:  Loss 0.120463 Validation Accuracy 0.5968\n",
      "Epoch 29, CIFAR-10 Batch 1:  Loss 0.110494 Validation Accuracy 0.5916\n",
      "Epoch 30, CIFAR-10 Batch 1:  Loss 0.0984248 Validation Accuracy 0.6006\n",
      "Epoch 31, CIFAR-10 Batch 1:  Loss 0.0764368 Validation Accuracy 0.5948\n",
      "Epoch 32, CIFAR-10 Batch 1:  Loss 0.0716113 Validation Accuracy 0.6014\n",
      "Epoch 33, CIFAR-10 Batch 1:  Loss 0.0542683 Validation Accuracy 0.6078\n",
      "Epoch 34, CIFAR-10 Batch 1:  Loss 0.0485187 Validation Accuracy 0.6022\n",
      "Epoch 35, CIFAR-10 Batch 1:  Loss 0.0479335 Validation Accuracy 0.6086\n",
      "Epoch 36, CIFAR-10 Batch 1:  Loss 0.0355966 Validation Accuracy 0.6192\n",
      "Epoch 37, CIFAR-10 Batch 1:  Loss 0.0313143 Validation Accuracy 0.6066\n",
      "Epoch 38, CIFAR-10 Batch 1:  Loss 0.0305513 Validation Accuracy 0.6166\n",
      "Epoch 39, CIFAR-10 Batch 1:  Loss 0.0216818 Validation Accuracy 0.6228\n",
      "Epoch 40, CIFAR-10 Batch 1:  Loss 0.0221071 Validation Accuracy 0.617\n"
     ]
    }
   ],
   "source": [
    "\"\"\"\n",
    "DON'T MODIFY ANYTHING IN THIS CELL\n",
    "\"\"\"\n",
    "print('Checking the Training on a Single Batch...')\n",
    "with tf.Session() as sess:\n",
    "    # Initializing the variables\n",
    "    sess.run(tf.global_variables_initializer())\n",
    "    \n",
    "    # Training cycle\n",
    "    for epoch in range(epochs):\n",
    "        batch_i = 1\n",
    "        for batch_features, batch_labels in helper.load_preprocess_training_batch(batch_i, batch_size):\n",
    "            train_neural_network(sess, optimizer, keep_probability, batch_features, batch_labels)\n",
    "        print('Epoch {:>2}, CIFAR-10 Batch {}:  '.format(epoch + 1, batch_i), end='')\n",
    "        print_stats(sess, batch_features, batch_labels, cost, accuracy)"
   ]
  },
  {
   "cell_type": "markdown",
   "metadata": {},
   "source": [
    "### Fully Train the Model\n",
    "Now that you got a good accuracy with a single CIFAR-10 batch, try it with all five batches."
   ]
  },
  {
   "cell_type": "code",
   "execution_count": 156,
   "metadata": {},
   "outputs": [
    {
     "name": "stdout",
     "output_type": "stream",
     "text": [
      "Training...\n",
      "Epoch  1, CIFAR-10 Batch 1:  Loss 2.24265 Validation Accuracy 0.1794\n",
      "Epoch  1, CIFAR-10 Batch 2:  Loss 2.11014 Validation Accuracy 0.2336\n",
      "Epoch  1, CIFAR-10 Batch 3:  Loss 1.82734 Validation Accuracy 0.328\n",
      "Epoch  1, CIFAR-10 Batch 4:  Loss 1.83816 Validation Accuracy 0.362\n",
      "Epoch  1, CIFAR-10 Batch 5:  Loss 1.66331 Validation Accuracy 0.4\n",
      "Epoch  2, CIFAR-10 Batch 1:  Loss 1.84914 Validation Accuracy 0.3876\n",
      "Epoch  2, CIFAR-10 Batch 2:  Loss 1.60039 Validation Accuracy 0.4496\n",
      "Epoch  2, CIFAR-10 Batch 3:  Loss 1.35732 Validation Accuracy 0.4578\n",
      "Epoch  2, CIFAR-10 Batch 4:  Loss 1.56982 Validation Accuracy 0.462\n",
      "Epoch  2, CIFAR-10 Batch 5:  Loss 1.38978 Validation Accuracy 0.4914\n",
      "Epoch  3, CIFAR-10 Batch 1:  Loss 1.57939 Validation Accuracy 0.4974\n",
      "Epoch  3, CIFAR-10 Batch 2:  Loss 1.38955 Validation Accuracy 0.5204\n",
      "Epoch  3, CIFAR-10 Batch 3:  Loss 1.17082 Validation Accuracy 0.5232\n",
      "Epoch  3, CIFAR-10 Batch 4:  Loss 1.29082 Validation Accuracy 0.5394\n",
      "Epoch  3, CIFAR-10 Batch 5:  Loss 1.24901 Validation Accuracy 0.5356\n",
      "Epoch  4, CIFAR-10 Batch 1:  Loss 1.32781 Validation Accuracy 0.5542\n",
      "Epoch  4, CIFAR-10 Batch 2:  Loss 1.1099 Validation Accuracy 0.564\n",
      "Epoch  4, CIFAR-10 Batch 3:  Loss 0.962149 Validation Accuracy 0.5576\n",
      "Epoch  4, CIFAR-10 Batch 4:  Loss 1.15689 Validation Accuracy 0.5642\n",
      "Epoch  4, CIFAR-10 Batch 5:  Loss 1.05852 Validation Accuracy 0.5708\n",
      "Epoch  5, CIFAR-10 Batch 1:  Loss 1.04927 Validation Accuracy 0.5988\n",
      "Epoch  5, CIFAR-10 Batch 2:  Loss 0.895797 Validation Accuracy 0.5946\n",
      "Epoch  5, CIFAR-10 Batch 3:  Loss 0.779622 Validation Accuracy 0.5878\n",
      "Epoch  5, CIFAR-10 Batch 4:  Loss 0.974538 Validation Accuracy 0.6074\n",
      "Epoch  5, CIFAR-10 Batch 5:  Loss 0.883606 Validation Accuracy 0.601\n",
      "Epoch  6, CIFAR-10 Batch 1:  Loss 0.943128 Validation Accuracy 0.6092\n",
      "Epoch  6, CIFAR-10 Batch 2:  Loss 0.791227 Validation Accuracy 0.619\n",
      "Epoch  6, CIFAR-10 Batch 3:  Loss 0.662898 Validation Accuracy 0.6154\n",
      "Epoch  6, CIFAR-10 Batch 4:  Loss 0.794843 Validation Accuracy 0.6326\n",
      "Epoch  6, CIFAR-10 Batch 5:  Loss 0.821503 Validation Accuracy 0.6214\n",
      "Epoch  7, CIFAR-10 Batch 1:  Loss 0.836506 Validation Accuracy 0.6394\n",
      "Epoch  7, CIFAR-10 Batch 2:  Loss 0.648512 Validation Accuracy 0.645\n",
      "Epoch  7, CIFAR-10 Batch 3:  Loss 0.577604 Validation Accuracy 0.6408\n",
      "Epoch  7, CIFAR-10 Batch 4:  Loss 0.702961 Validation Accuracy 0.6456\n",
      "Epoch  7, CIFAR-10 Batch 5:  Loss 0.666149 Validation Accuracy 0.6508\n",
      "Epoch  8, CIFAR-10 Batch 1:  Loss 0.754495 Validation Accuracy 0.6416\n",
      "Epoch  8, CIFAR-10 Batch 2:  Loss 0.564403 Validation Accuracy 0.658\n",
      "Epoch  8, CIFAR-10 Batch 3:  Loss 0.473265 Validation Accuracy 0.6506\n",
      "Epoch  8, CIFAR-10 Batch 4:  Loss 0.594636 Validation Accuracy 0.6634\n",
      "Epoch  8, CIFAR-10 Batch 5:  Loss 0.550367 Validation Accuracy 0.673\n",
      "Epoch  9, CIFAR-10 Batch 1:  Loss 0.641991 Validation Accuracy 0.6746\n",
      "Epoch  9, CIFAR-10 Batch 2:  Loss 0.516112 Validation Accuracy 0.6594\n",
      "Epoch  9, CIFAR-10 Batch 3:  Loss 0.416227 Validation Accuracy 0.6602\n",
      "Epoch  9, CIFAR-10 Batch 4:  Loss 0.448436 Validation Accuracy 0.6768\n",
      "Epoch  9, CIFAR-10 Batch 5:  Loss 0.445192 Validation Accuracy 0.6794\n",
      "Epoch 10, CIFAR-10 Batch 1:  Loss 0.534078 Validation Accuracy 0.6794\n",
      "Epoch 10, CIFAR-10 Batch 2:  Loss 0.473688 Validation Accuracy 0.6738\n",
      "Epoch 10, CIFAR-10 Batch 3:  Loss 0.324902 Validation Accuracy 0.682\n",
      "Epoch 10, CIFAR-10 Batch 4:  Loss 0.424545 Validation Accuracy 0.6852\n",
      "Epoch 10, CIFAR-10 Batch 5:  Loss 0.405836 Validation Accuracy 0.6876\n",
      "Epoch 11, CIFAR-10 Batch 1:  Loss 0.462962 Validation Accuracy 0.6702\n",
      "Epoch 11, CIFAR-10 Batch 2:  Loss 0.422601 Validation Accuracy 0.6902\n",
      "Epoch 11, CIFAR-10 Batch 3:  Loss 0.301614 Validation Accuracy 0.6864\n",
      "Epoch 11, CIFAR-10 Batch 4:  Loss 0.384973 Validation Accuracy 0.696\n",
      "Epoch 11, CIFAR-10 Batch 5:  Loss 0.323119 Validation Accuracy 0.702\n",
      "Epoch 12, CIFAR-10 Batch 1:  Loss 0.404224 Validation Accuracy 0.682\n",
      "Epoch 12, CIFAR-10 Batch 2:  Loss 0.370535 Validation Accuracy 0.6906\n",
      "Epoch 12, CIFAR-10 Batch 3:  Loss 0.238875 Validation Accuracy 0.6988\n",
      "Epoch 12, CIFAR-10 Batch 4:  Loss 0.321715 Validation Accuracy 0.7006\n",
      "Epoch 12, CIFAR-10 Batch 5:  Loss 0.271615 Validation Accuracy 0.7012\n",
      "Epoch 13, CIFAR-10 Batch 1:  Loss 0.362394 Validation Accuracy 0.7002\n",
      "Epoch 13, CIFAR-10 Batch 2:  Loss 0.309164 Validation Accuracy 0.6996\n",
      "Epoch 13, CIFAR-10 Batch 3:  Loss 0.197876 Validation Accuracy 0.6966\n",
      "Epoch 13, CIFAR-10 Batch 4:  Loss 0.25077 Validation Accuracy 0.7056\n",
      "Epoch 13, CIFAR-10 Batch 5:  Loss 0.256 Validation Accuracy 0.702\n",
      "Epoch 14, CIFAR-10 Batch 1:  Loss 0.304758 Validation Accuracy 0.6978\n",
      "Epoch 14, CIFAR-10 Batch 2:  Loss 0.259743 Validation Accuracy 0.7064\n",
      "Epoch 14, CIFAR-10 Batch 3:  Loss 0.175305 Validation Accuracy 0.714\n",
      "Epoch 14, CIFAR-10 Batch 4:  Loss 0.231081 Validation Accuracy 0.7064\n",
      "Epoch 14, CIFAR-10 Batch 5:  Loss 0.200742 Validation Accuracy 0.7092\n",
      "Epoch 15, CIFAR-10 Batch 1:  Loss 0.260414 Validation Accuracy 0.7158\n",
      "Epoch 15, CIFAR-10 Batch 2:  Loss 0.225532 Validation Accuracy 0.7054\n",
      "Epoch 15, CIFAR-10 Batch 3:  Loss 0.154262 Validation Accuracy 0.7174\n",
      "Epoch 15, CIFAR-10 Batch 4:  Loss 0.217364 Validation Accuracy 0.7116\n",
      "Epoch 15, CIFAR-10 Batch 5:  Loss 0.1833 Validation Accuracy 0.7074\n",
      "Epoch 16, CIFAR-10 Batch 1:  Loss 0.215052 Validation Accuracy 0.713\n",
      "Epoch 16, CIFAR-10 Batch 2:  Loss 0.194542 Validation Accuracy 0.7126\n",
      "Epoch 16, CIFAR-10 Batch 3:  Loss 0.127917 Validation Accuracy 0.7174\n",
      "Epoch 16, CIFAR-10 Batch 4:  Loss 0.15375 Validation Accuracy 0.7272\n",
      "Epoch 16, CIFAR-10 Batch 5:  Loss 0.157958 Validation Accuracy 0.7194\n",
      "Epoch 17, CIFAR-10 Batch 1:  Loss 0.181782 Validation Accuracy 0.7174\n",
      "Epoch 17, CIFAR-10 Batch 2:  Loss 0.190864 Validation Accuracy 0.718\n",
      "Epoch 17, CIFAR-10 Batch 3:  Loss 0.123972 Validation Accuracy 0.7204\n",
      "Epoch 17, CIFAR-10 Batch 4:  Loss 0.153492 Validation Accuracy 0.722\n",
      "Epoch 17, CIFAR-10 Batch 5:  Loss 0.135737 Validation Accuracy 0.7242\n",
      "Epoch 18, CIFAR-10 Batch 1:  Loss 0.154534 Validation Accuracy 0.7214\n",
      "Epoch 18, CIFAR-10 Batch 2:  Loss 0.160616 Validation Accuracy 0.722\n",
      "Epoch 18, CIFAR-10 Batch 3:  Loss 0.0875822 Validation Accuracy 0.7264\n",
      "Epoch 18, CIFAR-10 Batch 4:  Loss 0.119751 Validation Accuracy 0.7282\n",
      "Epoch 18, CIFAR-10 Batch 5:  Loss 0.110915 Validation Accuracy 0.7352\n",
      "Epoch 19, CIFAR-10 Batch 1:  Loss 0.151478 Validation Accuracy 0.716\n",
      "Epoch 19, CIFAR-10 Batch 2:  Loss 0.138441 Validation Accuracy 0.7328\n",
      "Epoch 19, CIFAR-10 Batch 3:  Loss 0.0889022 Validation Accuracy 0.7272\n",
      "Epoch 19, CIFAR-10 Batch 4:  Loss 0.104896 Validation Accuracy 0.7346\n",
      "Epoch 19, CIFAR-10 Batch 5:  Loss 0.0923743 Validation Accuracy 0.733\n",
      "Epoch 20, CIFAR-10 Batch 1:  Loss 0.137043 Validation Accuracy 0.7212\n",
      "Epoch 20, CIFAR-10 Batch 2:  Loss 0.126729 Validation Accuracy 0.7256\n",
      "Epoch 20, CIFAR-10 Batch 3:  Loss 0.0951219 Validation Accuracy 0.73\n",
      "Epoch 20, CIFAR-10 Batch 4:  Loss 0.117721 Validation Accuracy 0.7316\n",
      "Epoch 20, CIFAR-10 Batch 5:  Loss 0.0821347 Validation Accuracy 0.7306\n",
      "Epoch 21, CIFAR-10 Batch 1:  Loss 0.107471 Validation Accuracy 0.7236\n",
      "Epoch 21, CIFAR-10 Batch 2:  Loss 0.0938416 Validation Accuracy 0.7302\n",
      "Epoch 21, CIFAR-10 Batch 3:  Loss 0.0767663 Validation Accuracy 0.7286\n",
      "Epoch 21, CIFAR-10 Batch 4:  Loss 0.104575 Validation Accuracy 0.7324\n",
      "Epoch 21, CIFAR-10 Batch 5:  Loss 0.0831437 Validation Accuracy 0.7302\n",
      "Epoch 22, CIFAR-10 Batch 1:  Loss 0.0735371 Validation Accuracy 0.7342\n",
      "Epoch 22, CIFAR-10 Batch 2:  Loss 0.0796332 Validation Accuracy 0.7286\n",
      "Epoch 22, CIFAR-10 Batch 3:  Loss 0.0521752 Validation Accuracy 0.7354\n",
      "Epoch 22, CIFAR-10 Batch 4:  Loss 0.0699361 Validation Accuracy 0.732\n",
      "Epoch 22, CIFAR-10 Batch 5:  Loss 0.053707 Validation Accuracy 0.728\n",
      "Epoch 23, CIFAR-10 Batch 1:  Loss 0.0657513 Validation Accuracy 0.7322\n",
      "Epoch 23, CIFAR-10 Batch 2:  Loss 0.0723696 Validation Accuracy 0.7412\n",
      "Epoch 23, CIFAR-10 Batch 3:  Loss 0.0496231 Validation Accuracy 0.7276\n",
      "Epoch 23, CIFAR-10 Batch 4:  Loss 0.0800893 Validation Accuracy 0.7332\n",
      "Epoch 23, CIFAR-10 Batch 5:  Loss 0.044114 Validation Accuracy 0.7436\n",
      "Epoch 24, CIFAR-10 Batch 1:  Loss 0.0600671 Validation Accuracy 0.7384\n",
      "Epoch 24, CIFAR-10 Batch 2:  Loss 0.07819 Validation Accuracy 0.7424\n",
      "Epoch 24, CIFAR-10 Batch 3:  Loss 0.0478819 Validation Accuracy 0.7324\n"
     ]
    },
    {
     "name": "stdout",
     "output_type": "stream",
     "text": [
      "Epoch 24, CIFAR-10 Batch 4:  Loss 0.0653726 Validation Accuracy 0.742\n",
      "Epoch 24, CIFAR-10 Batch 5:  Loss 0.0476218 Validation Accuracy 0.7324\n",
      "Epoch 25, CIFAR-10 Batch 1:  Loss 0.0548168 Validation Accuracy 0.7412\n",
      "Epoch 25, CIFAR-10 Batch 2:  Loss 0.0629028 Validation Accuracy 0.735\n",
      "Epoch 25, CIFAR-10 Batch 3:  Loss 0.0495115 Validation Accuracy 0.7344\n",
      "Epoch 25, CIFAR-10 Batch 4:  Loss 0.0630499 Validation Accuracy 0.7336\n",
      "Epoch 25, CIFAR-10 Batch 5:  Loss 0.0599243 Validation Accuracy 0.7348\n",
      "Epoch 26, CIFAR-10 Batch 1:  Loss 0.0491999 Validation Accuracy 0.741\n",
      "Epoch 26, CIFAR-10 Batch 2:  Loss 0.0679708 Validation Accuracy 0.7384\n",
      "Epoch 26, CIFAR-10 Batch 3:  Loss 0.0557254 Validation Accuracy 0.7288\n",
      "Epoch 26, CIFAR-10 Batch 4:  Loss 0.0672982 Validation Accuracy 0.7314\n",
      "Epoch 26, CIFAR-10 Batch 5:  Loss 0.0295632 Validation Accuracy 0.7424\n",
      "Epoch 27, CIFAR-10 Batch 1:  Loss 0.0361163 Validation Accuracy 0.7436\n",
      "Epoch 27, CIFAR-10 Batch 2:  Loss 0.0469428 Validation Accuracy 0.7404\n",
      "Epoch 27, CIFAR-10 Batch 3:  Loss 0.0322068 Validation Accuracy 0.7322\n",
      "Epoch 27, CIFAR-10 Batch 4:  Loss 0.0364353 Validation Accuracy 0.7464\n",
      "Epoch 27, CIFAR-10 Batch 5:  Loss 0.0340831 Validation Accuracy 0.737\n",
      "Epoch 28, CIFAR-10 Batch 1:  Loss 0.0452074 Validation Accuracy 0.7382\n",
      "Epoch 28, CIFAR-10 Batch 2:  Loss 0.0301306 Validation Accuracy 0.7504\n",
      "Epoch 28, CIFAR-10 Batch 3:  Loss 0.0310735 Validation Accuracy 0.73\n",
      "Epoch 28, CIFAR-10 Batch 4:  Loss 0.0544103 Validation Accuracy 0.7398\n",
      "Epoch 28, CIFAR-10 Batch 5:  Loss 0.0279506 Validation Accuracy 0.7374\n",
      "Epoch 29, CIFAR-10 Batch 1:  Loss 0.0374002 Validation Accuracy 0.7394\n",
      "Epoch 29, CIFAR-10 Batch 2:  Loss 0.0324527 Validation Accuracy 0.75\n",
      "Epoch 29, CIFAR-10 Batch 3:  Loss 0.0170236 Validation Accuracy 0.7436\n",
      "Epoch 29, CIFAR-10 Batch 4:  Loss 0.0330895 Validation Accuracy 0.7496\n",
      "Epoch 29, CIFAR-10 Batch 5:  Loss 0.0217065 Validation Accuracy 0.7382\n",
      "Epoch 30, CIFAR-10 Batch 1:  Loss 0.0383938 Validation Accuracy 0.748\n",
      "Epoch 30, CIFAR-10 Batch 2:  Loss 0.0310631 Validation Accuracy 0.741\n",
      "Epoch 30, CIFAR-10 Batch 3:  Loss 0.0188861 Validation Accuracy 0.7412\n",
      "Epoch 30, CIFAR-10 Batch 4:  Loss 0.0288616 Validation Accuracy 0.7438\n",
      "Epoch 30, CIFAR-10 Batch 5:  Loss 0.0162351 Validation Accuracy 0.742\n",
      "Epoch 31, CIFAR-10 Batch 1:  Loss 0.030522 Validation Accuracy 0.7344\n",
      "Epoch 31, CIFAR-10 Batch 2:  Loss 0.0209176 Validation Accuracy 0.738\n",
      "Epoch 31, CIFAR-10 Batch 3:  Loss 0.0197213 Validation Accuracy 0.7386\n",
      "Epoch 31, CIFAR-10 Batch 4:  Loss 0.0367059 Validation Accuracy 0.744\n",
      "Epoch 31, CIFAR-10 Batch 5:  Loss 0.0139369 Validation Accuracy 0.7322\n",
      "Epoch 32, CIFAR-10 Batch 1:  Loss 0.0252281 Validation Accuracy 0.7524\n",
      "Epoch 32, CIFAR-10 Batch 2:  Loss 0.0174803 Validation Accuracy 0.7486\n",
      "Epoch 32, CIFAR-10 Batch 3:  Loss 0.0133074 Validation Accuracy 0.7496\n",
      "Epoch 32, CIFAR-10 Batch 4:  Loss 0.050277 Validation Accuracy 0.7376\n",
      "Epoch 32, CIFAR-10 Batch 5:  Loss 0.0169836 Validation Accuracy 0.7412\n",
      "Epoch 33, CIFAR-10 Batch 1:  Loss 0.0428631 Validation Accuracy 0.7306\n",
      "Epoch 33, CIFAR-10 Batch 2:  Loss 0.0117558 Validation Accuracy 0.7472\n",
      "Epoch 33, CIFAR-10 Batch 3:  Loss 0.0145212 Validation Accuracy 0.7402\n",
      "Epoch 33, CIFAR-10 Batch 4:  Loss 0.020101 Validation Accuracy 0.7556\n",
      "Epoch 33, CIFAR-10 Batch 5:  Loss 0.00856982 Validation Accuracy 0.7488\n",
      "Epoch 34, CIFAR-10 Batch 1:  Loss 0.0155911 Validation Accuracy 0.7524\n",
      "Epoch 34, CIFAR-10 Batch 2:  Loss 0.0214485 Validation Accuracy 0.7336\n",
      "Epoch 34, CIFAR-10 Batch 3:  Loss 0.010932 Validation Accuracy 0.7464\n",
      "Epoch 34, CIFAR-10 Batch 4:  Loss 0.0219094 Validation Accuracy 0.7466\n",
      "Epoch 34, CIFAR-10 Batch 5:  Loss 0.0193208 Validation Accuracy 0.734\n",
      "Epoch 35, CIFAR-10 Batch 1:  Loss 0.0209607 Validation Accuracy 0.7426\n",
      "Epoch 35, CIFAR-10 Batch 2:  Loss 0.0126495 Validation Accuracy 0.7352\n",
      "Epoch 35, CIFAR-10 Batch 3:  Loss 0.0178923 Validation Accuracy 0.7464\n",
      "Epoch 35, CIFAR-10 Batch 4:  Loss 0.0239463 Validation Accuracy 0.7362\n",
      "Epoch 35, CIFAR-10 Batch 5:  Loss 0.0173327 Validation Accuracy 0.7384\n",
      "Epoch 36, CIFAR-10 Batch 1:  Loss 0.0239897 Validation Accuracy 0.74\n",
      "Epoch 36, CIFAR-10 Batch 2:  Loss 0.0100004 Validation Accuracy 0.744\n",
      "Epoch 36, CIFAR-10 Batch 3:  Loss 0.0165948 Validation Accuracy 0.7488\n",
      "Epoch 36, CIFAR-10 Batch 4:  Loss 0.0182051 Validation Accuracy 0.741\n",
      "Epoch 36, CIFAR-10 Batch 5:  Loss 0.00969445 Validation Accuracy 0.741\n",
      "Epoch 37, CIFAR-10 Batch 1:  Loss 0.016866 Validation Accuracy 0.7564\n",
      "Epoch 37, CIFAR-10 Batch 2:  Loss 0.00913887 Validation Accuracy 0.7518\n",
      "Epoch 37, CIFAR-10 Batch 3:  Loss 0.0112216 Validation Accuracy 0.7502\n",
      "Epoch 37, CIFAR-10 Batch 4:  Loss 0.0122078 Validation Accuracy 0.7302\n",
      "Epoch 37, CIFAR-10 Batch 5:  Loss 0.00956812 Validation Accuracy 0.7494\n",
      "Epoch 38, CIFAR-10 Batch 1:  Loss 0.0158825 Validation Accuracy 0.7464\n",
      "Epoch 38, CIFAR-10 Batch 2:  Loss 0.00657503 Validation Accuracy 0.7534\n",
      "Epoch 38, CIFAR-10 Batch 3:  Loss 0.00623729 Validation Accuracy 0.7514\n",
      "Epoch 38, CIFAR-10 Batch 4:  Loss 0.0161058 Validation Accuracy 0.7384\n",
      "Epoch 38, CIFAR-10 Batch 5:  Loss 0.0169074 Validation Accuracy 0.7374\n",
      "Epoch 39, CIFAR-10 Batch 1:  Loss 0.0137028 Validation Accuracy 0.7336\n",
      "Epoch 39, CIFAR-10 Batch 2:  Loss 0.00595905 Validation Accuracy 0.7502\n",
      "Epoch 39, CIFAR-10 Batch 3:  Loss 0.0112853 Validation Accuracy 0.7474\n",
      "Epoch 39, CIFAR-10 Batch 4:  Loss 0.0105146 Validation Accuracy 0.7524\n",
      "Epoch 39, CIFAR-10 Batch 5:  Loss 0.00830597 Validation Accuracy 0.7494\n",
      "Epoch 40, CIFAR-10 Batch 1:  Loss 0.0112939 Validation Accuracy 0.7476\n",
      "Epoch 40, CIFAR-10 Batch 2:  Loss 0.0043461 Validation Accuracy 0.7532\n",
      "Epoch 40, CIFAR-10 Batch 3:  Loss 0.00903474 Validation Accuracy 0.7486\n",
      "Epoch 40, CIFAR-10 Batch 4:  Loss 0.009113 Validation Accuracy 0.7512\n",
      "Epoch 40, CIFAR-10 Batch 5:  Loss 0.0105753 Validation Accuracy 0.7502\n"
     ]
    }
   ],
   "source": [
    "\"\"\"\n",
    "DON'T MODIFY ANYTHING IN THIS CELL\n",
    "\"\"\"\n",
    "save_model_path = './image_classification'\n",
    "\n",
    "print('Training...')\n",
    "with tf.Session() as sess:\n",
    "    # Initializing the variables\n",
    "    sess.run(tf.global_variables_initializer())\n",
    "    \n",
    "    # Training cycle\n",
    "    for epoch in range(epochs):\n",
    "        # Loop over all batches\n",
    "        n_batches = 5\n",
    "        for batch_i in range(1, n_batches + 1):\n",
    "            for batch_features, batch_labels in helper.load_preprocess_training_batch(batch_i, batch_size):\n",
    "                train_neural_network(sess, optimizer, keep_probability, batch_features, batch_labels)\n",
    "            print('Epoch {:>2}, CIFAR-10 Batch {}:  '.format(epoch + 1, batch_i), end='')\n",
    "            print_stats(sess, batch_features, batch_labels, cost, accuracy)\n",
    "            \n",
    "    # Save Model\n",
    "    saver = tf.train.Saver()\n",
    "    save_path = saver.save(sess, save_model_path)"
   ]
  },
  {
   "cell_type": "markdown",
   "metadata": {},
   "source": [
    "# Checkpoint\n",
    "The model has been saved to disk.\n",
    "## Test Model\n",
    "Test your model against the test dataset.  This will be your final accuracy. You should have an accuracy greater than 50%. If you don't, keep tweaking the model architecture and parameters."
   ]
  },
  {
   "cell_type": "code",
   "execution_count": 157,
   "metadata": {},
   "outputs": [
    {
     "name": "stdout",
     "output_type": "stream",
     "text": [
      "INFO:tensorflow:Restoring parameters from ./image_classification\n",
      "Testing Accuracy: 0.7423828125\n",
      "\n"
     ]
    },
    {
     "data": {
      "image/png": "[encoded data removed]",
      "text/plain": [
       "<matplotlib.figure.Figure at 0x1a100e19e8>"
      ]
     },
     "metadata": {
      "image/png": {
       "height": 319,
       "width": 355
      }
     },
     "output_type": "display_data"
    }
   ],
   "source": [
    "\"\"\"\n",
    "DON'T MODIFY ANYTHING IN THIS CELL\n",
    "\"\"\"\n",
    "%matplotlib inline\n",
    "%config InlineBackend.figure_format = 'retina'\n",
    "\n",
    "import tensorflow as tf\n",
    "import pickle\n",
    "import helper\n",
    "import random\n",
    "\n",
    "# Set batch size if not already set\n",
    "try:\n",
    "    if batch_size:\n",
    "        pass\n",
    "except NameError:\n",
    "    batch_size = 64\n",
    "\n",
    "save_model_path = './image_classification'\n",
    "n_samples = 4\n",
    "top_n_predictions = 3\n",
    "\n",
    "def test_model():\n",
    "    \"\"\"\n",
    "    Test the saved model against the test dataset\n",
    "    \"\"\"\n",
    "\n",
    "    test_features, test_labels = pickle.load(open('preprocess_training.p', mode='rb'))\n",
    "    loaded_graph = tf.Graph()\n",
    "\n",
    "    with tf.Session(graph=loaded_graph) as sess:\n",
    "        # Load model\n",
    "        loader = tf.train.import_meta_graph(save_model_path + '.meta')\n",
    "        loader.restore(sess, save_model_path)\n",
    "\n",
    "        # Get Tensors from loaded model\n",
    "        loaded_x = loaded_graph.get_tensor_by_name('x:0')\n",
    "        loaded_y = loaded_graph.get_tensor_by_name('y:0')\n",
    "        loaded_keep_prob = loaded_graph.get_tensor_by_name('keep_prob:0')\n",
    "        loaded_logits = loaded_graph.get_tensor_by_name('logits:0')\n",
    "        loaded_acc = loaded_graph.get_tensor_by_name('accuracy:0')\n",
    "        \n",
    "        # Get accuracy in batches for memory limitations\n",
    "        test_batch_acc_total = 0\n",
    "        test_batch_count = 0\n",
    "        \n",
    "        for train_feature_batch, train_label_batch in helper.batch_features_labels(test_features, test_labels, batch_size):\n",
    "            test_batch_acc_total += sess.run(\n",
    "                loaded_acc,\n",
    "                feed_dict={loaded_x: train_feature_batch, loaded_y: train_label_batch, loaded_keep_prob: 1.0})\n",
    "            test_batch_count += 1\n",
    "\n",
    "        print('Testing Accuracy: {}\\n'.format(test_batch_acc_total/test_batch_count))\n",
    "\n",
    "        # Print Random Samples\n",
    "        random_test_features, random_test_labels = tuple(zip(*random.sample(list(zip(test_features, test_labels)), n_samples)))\n",
    "        random_test_predictions = sess.run(\n",
    "            tf.nn.top_k(tf.nn.softmax(loaded_logits), top_n_predictions),\n",
    "            feed_dict={loaded_x: random_test_features, loaded_y: random_test_labels, loaded_keep_prob: 1.0})\n",
    "        helper.display_image_predictions(random_test_features, random_test_labels, random_test_predictions)\n",
    "\n",
    "\n",
    "test_model()"
   ]
  },
  {
   "cell_type": "markdown",
   "metadata": {},
   "source": [
    "## Why 50-80% Accuracy?\n",
    "You might be wondering why you can't get an accuracy any higher. First things first, 50% isn't bad for a simple CNN.  Pure guessing would get you 10% accuracy. That's because there are many more techniques that can be applied to your model and we recemmond that once you are done with this project, you explore!\n",
    "\n",
    "## Submitting This Project\n",
    "When submitting this project, make sure to run all the cells before saving the notebook.  Save the notebook file as \"image_classification.ipynb\" and save it as a HTML file under \"File\" -> \"Download as\".  Include the \"helper.py\" and \"problem_unittests.py\" files in your submission."
   ]
  }
 ],
 "metadata": {
  "kernelspec": {
   "display_name": "Python 2",
   "language": "python",
   "name": "python2"
  },
  "language_info": {
   "codemirror_mode": {
    "name": "ipython",
    "version": 3
   },
   "file_extension": ".py",
   "mimetype": "text/x-python",
   "name": "python",
   "nbconvert_exporter": "python",
   "pygments_lexer": "ipython3",
   "version": "3.6.4"
  }
 },
 "nbformat": 4,
 "nbformat_minor": 1
}
